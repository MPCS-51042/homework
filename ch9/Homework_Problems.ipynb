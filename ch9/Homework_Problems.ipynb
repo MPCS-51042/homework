{
 "cells": [
  {
   "cell_type": "markdown",
   "metadata": {},
   "source": [
    "For this homework, you do not have to submit answers in separate `.py` or `.md` files. Instead, please put your answers in this notebook. You will also make changes to a `.py` file that I provided for you.\n",
    "\n",
    "### Problem 1:\n",
    "\n",
    "[Watch this Video](https://chelseatroy.com/2020/05/05/transcript-debugging-techniques-for-uncertain-times/) called \"Debugging: Techniques for Uncertain Times.\" It's a little hokey (conference talks sometimes have to be), but it talks about debugging strategies.\n",
    "\n",
    "That link goes to a blog post with the video embedded in it, and the blog post is a transcript of the video so you can follow along with the slides and written text if you like.\n",
    "\n",
    "**Answer the following questions:**\n",
    "\n",
    "1. There are two modes of software engineering. Which one is the one that most programming tutorials demonstrate?\n",
    "2. How do you switch from progress mode to investigation mode?\n",
    "3. What strategy might you use to find a bug in a very very large, single-threaded program?"
   ]
  },
  {
   "cell_type": "markdown",
   "metadata": {},
   "source": [
    "# YOUR ANSWERS HERE\n",
    "\n",
    "1. Most programming tutorials demonstrate...\n",
    "\n",
    "2. You switch from progress to investigation mode by...\n",
    "\n",
    "3. I might use the..."
   ]
  },
  {
   "cell_type": "markdown",
   "metadata": {},
   "source": [
    "### Problem 2:\n",
    "\n",
    "[Watch this Video](https://youtu.be/3LRG960JhZo?list=PLwWm3SC4yPMyzj6hDxXzb1GK84l80GeMO) called \"Introduction to Version Control with Git.\" The subtitles on that video should be accurate.\n",
    "\n",
    "**Answer the following questions:**"
   ]
  },
  {
   "cell_type": "markdown",
   "metadata": {},
   "source": [
    "1. What is a SHA?\n",
    "2. What is a branch?\n",
    "3. What does a remote do?\n",
    "4. Suppose an app's git history looks like this:\n",
    "    \n",
    "```\n",
    "a0a7fe1 (origin/main, origin/HEAD, main) Update issue templates\n",
    "ac457fd Update dependencies for release\n",
    "a51defc Update bug_report.md\n",
    "7f26e3e Update feature_enhancement.md\n",
    "6f21591 Remove in-browser projects from project list\n",
    "f23a0f7 Introduce dark color scheme for museum projects\n",
    "```\n",
    "\n",
    "The oldest two commits add features to the app. The most recent four commits make updates to various documentation in preparation for release. Your colleague made these four commits to the main branch (\"D'oh!\"), but he did not _push them_. They are just on his local machine. He needs to submit them to the repo in a _pull request_, so that another developer can review them prior to merging them in and publishing the new release. \n",
    "\n",
    "Your colleague panicked about committing to the wrong branch and he's currently crying in the bathroom. You decide to fix it for him and save his day. **What commands do you run on his machine to open the proper pull request and restore the local main branch to the state of the remote main branch?** \n",
    "\n",
    "Assume that this git repo already has a remote and the oldest two commits in the history above are already on the main branch on that remote; it's the last four commits that are new and need to be in the PR."
   ]
  },
  {
   "cell_type": "markdown",
   "metadata": {},
   "source": [
    "# YOUR ANSWERS\n",
    "\n",
    "1. A SHA is...\n",
    "\n",
    "2. A branch is...\n",
    "\n",
    "3. A remote...\n",
    "\n",
    "4. The commands would be..."
   ]
  },
  {
   "cell_type": "markdown",
   "metadata": {},
   "source": [
    "### Problem 3\n",
    "\n",
    "[Watch this video](https://youtu.be/TSvyxLImhq8?list=PLwWm3SC4yPMyzj6hDxXzb1GK84l80GeMO) about preserving work with Git.\n",
    "\n",
    "**Answer the following questions:**\n",
    "\n",
    "1. What things should you NOT DO if you want to make sure to keep your committed work in git?\n",
    "2. How does this video make you feel about committing in git? How often do you think you should commit?"
   ]
  },
  {
   "cell_type": "markdown",
   "metadata": {},
   "source": [
    "# YOUR ANSWERS\n",
    "\n",
    "1. You shouldn't...\n",
    "\n",
    "2. I think..."
   ]
  },
  {
   "cell_type": "markdown",
   "metadata": {},
   "source": [
    "### Problem 4\n",
    "\n",
    "[Watch this Video](https://youtu.be/h_CAQ5218Mw) about using breakpoints to debug your programs.\n",
    "\n",
    "Then check out `bird_watching_session.py` in this folder. This is a program that Chicago bird watchers want to use to log their bird observations. Besides the initializer, it has two methods: `record`, which the birders use to record what they see, and `classify`, which attempts to classify the birds. \n",
    "\n",
    "The Chicago Birdwatching Society has come to you with some complaints about this program. They have noticed three problems.\n",
    "\n",
    "**Here are the problems:**\n",
    "1. session.classifications should return a list of strings describing the different kinds of birds seen during a session. That's not what it returns right now.\n",
    "2. session.birds_seen should return the number of birds seen during a session. For some reason it doesn't do that.\n",
    "3. Some of the classifications in session.classifications are wrong. The birders don't know why (they're not software engineers) but, for example, a black bird in Clark Park is a raven, not a red-shouldered blackbird.\n",
    "\n",
    "**Track down the bugs, explain why each bug was happening, and then fix it in `bird_watching_session.py`!**"
   ]
  },
  {
   "cell_type": "markdown",
   "metadata": {},
   "source": [
    "# YOUR ANSWERS HERE\n",
    "\n",
    "1. Bug 1 happened because...\n",
    "\n",
    "2. Bug 2 happened because...\n",
    "\n",
    "3. Bug 3 happened because..."
   ]
  },
  {
   "cell_type": "markdown",
   "metadata": {},
   "source": [
    "These tests might help you out in your search :)"
   ]
  },
  {
   "cell_type": "code",
   "execution_count": 1,
   "metadata": {},
   "outputs": [
    {
     "name": "stdout",
     "output_type": "stream",
     "text": [
      "Requirement already satisfied: colorama in /Users/chelseatroy/.pyenv/versions/3.9.0/lib/python3.9/site-packages (0.4.4)\n",
      "\u001b[33mWARNING: You are using pip version 20.2.3; however, version 21.0.1 is available.\n",
      "You should consider upgrading via the '/Users/chelseatroy/.pyenv/versions/3.9.0/bin/python3.9 -m pip install --upgrade pip' command.\u001b[0m\n"
     ]
    }
   ],
   "source": [
    "import sys\n",
    "!{sys.executable} -m pip install colorama \n",
    "\n",
    "sys.path.insert(0, '..')\n",
    "from test_framework_exercise.phoenix_test.matchers import FailedAssertion, Assertion, assert_that\n",
    "from test_framework_exercise.phoenix_test.test import Test\n",
    "sys.path.remove('..')\n",
    "\n",
    "from bird_watching_session import BirdWatchingSession, Observation"
   ]
  },
  {
   "cell_type": "code",
   "execution_count": 4,
   "metadata": {},
   "outputs": [
    {
     "name": "stdout",
     "output_type": "stream",
     "text": [
      "\u001b[31m    test_classification_method:  Expected Raven but got Red-Shouldered Blackbird\n",
      "\u001b[31m    test_classifications_data_type:  Expected <class 'str'> but got <class 'list'>\n",
      "\u001b[31m    test_observation_count:  Expected 6 but got 0\n",
      "\u001b[0m    0 out of 3 tests passed.\n",
      "\n"
     ]
    },
    {
     "data": {
      "text/plain": [
       "(0, 3)"
      ]
     },
     "execution_count": 4,
     "metadata": {},
     "output_type": "execute_result"
    }
   ],
   "source": [
    "class BirdWatcherSessionTest(Test):\n",
    "    def setup(self):\n",
    "        self.session = BirdWatchingSession()\n",
    "        self.session.record(Observation('black', 'Solidarity Drive'))\n",
    "        self.session.record(Observation('black', 'Clark Park'))\n",
    "        self.session.record(Observation('grey', 'Solidarity Drive'))\n",
    "        self.session.record(Observation('red', 'Solidarity Drive'))\n",
    "        self.session.record(Observation('brown', 'Starved Rock State Park'))\n",
    "        self.session.record(Observation('grey', 'Chicago River'))\n",
    "\n",
    "    def test_classifications_data_type(self):\n",
    "        types = [type(item) for item in self.session.classifications]\n",
    "        assert_that(set(types)).has_size(1)\n",
    "        assert_that(types[0]).equals(str)\n",
    "        \n",
    "    def test_observation_count(self):\n",
    "        assert_that(self.session.birds_seen).equals(6)\n",
    "        \n",
    "    def test_classification_method(self):\n",
    "        assert_that(self.session.classify('black', 'Solidarity Drive')).equals(\"Red-Shouldered Blackbird\")\n",
    "        assert_that(self.session.classify('black', 'Clark Park')).equals(\"Raven\")\n",
    "        assert_that(self.session.classify('grey', 'Solidarity Drive')).equals(\"Seagull\")\n",
    "        assert_that(self.session.classify('red', 'Solidarity Drive')).equals(\"Serrano (Field Museum's Scarlet Maccaw)\")\n",
    "        assert_that(self.session.classify('brown', 'Starved Rock State Park')).equals(\"juvenile Bald Eagle\")\n",
    "        assert_that(self.session.classify('grey', 'Chicago River')).equals(\"Eastern Heron\")\n",
    "        \n",
    "BirdWatcherSessionTest().run()"
   ]
  },
  {
   "cell_type": "code",
   "execution_count": null,
   "metadata": {},
   "outputs": [],
   "source": []
  }
 ],
 "metadata": {
  "kernelspec": {
   "display_name": "Python 3",
   "language": "python",
   "name": "python3"
  },
  "language_info": {
   "codemirror_mode": {
    "name": "ipython",
    "version": 3
   },
   "file_extension": ".py",
   "mimetype": "text/x-python",
   "name": "python",
   "nbconvert_exporter": "python",
   "pygments_lexer": "ipython3",
   "version": "3.9.0"
  }
 },
 "nbformat": 4,
 "nbformat_minor": 4
}
