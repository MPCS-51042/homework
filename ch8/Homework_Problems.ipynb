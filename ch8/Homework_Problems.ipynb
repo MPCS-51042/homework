{
 "cells": [
  {
   "cell_type": "markdown",
   "metadata": {},
   "source": [
    "### It is time.\n",
    "\n",
    "You know some Python. You have some practice with reading code that others have written. You have started writing code to satisfy automated tests. You have even begun evaluating some code design decisions.\n",
    "\n",
    "### Now, you are ready to write your own tests, plus the implementation code to make them pass.\n",
    "\n",
    "For this homework, you'll be writing a fully-tested API that fetches data from a fully-tested in-memory database.\n",
    "\n",
    "Sound daunting? Don't worry :) You'll have video tutorials to help you! \n",
    "\n",
    "The first thing you want to do is **choose a data model**. Your data model can be whatever you like: I like birds, so in my video tutorials I chose to make a data model to represent birds. In a FastAPI tutorial linked below, Anthony Herbert creates an API and database that provides information about cities.\n",
    "\n",
    "### The tutorials will not show you _all_ of the steps, but they will help you get started.\n",
    "\n",
    "This is akin to what you will need to do as a professional software engineer: you won't always have a teacher there to explain how to solve the problems you need to solve, and you'll have to do your own research, sometimes piecing together information from several sources. [Here's a video I recorded for you](https://youtu.be/6zlKxjfD1zA) about some of the sources you can use to help you approach novel programming challenges. You have options besides Stack Overflow!\n",
    "\n",
    "### OK, now let's get started on the API.\n",
    "\n",
    "For this API, you will set up a **virtual environment**: you can think of this as a container that your app can run in, that holds all the appropriate versions of all the libraries you need and keeps them separate from all the other projects on your machine. \n",
    "\n",
    "1. [Follow this video tutotial](https://youtu.be/p4x-HiRncSw) to set up a virtual environment.\n",
    "\n",
    "Next, it's time to start your API!\n",
    "\n",
    "2. [Follow this video tutotial](https://youtu.be/FWXZ5CpM4LA) to write your first API endpoint.\n",
    "\n",
    "Then, you'll begin following _another_ useful (and expected, for software engineers) practice: automated testing. \n",
    "\n",
    "3. [Follow this video tutotial](https://youtu.be/60pTjaP-1ts) to write a unit test for your first endpoint.\n",
    "\n",
    "If you follow these tutorials, you should automatically succeed on your first set of requirements.\n",
    "\n",
    "### Requirements here:\n",
    "\n",
    "1. Your app exists.\n",
    "2. Your app is in a virtual environment with a Pipfile delineating the dependencies."
   ]
  },
  {
   "cell_type": "markdown",
   "metadata": {},
   "source": [
    "### Once you have done all that, it's time to try some things on your own.\n",
    "\n",
    "![](../images/leave_the_nest.png)\n",
    "\n",
    "Using what you've learned so far, you'll make an API that serves up data from a dict in your `main.py` file. This API should be able to create items (put them in the dictionary), list all the items out of the dictionary, get a specific item from the dictionary, or delete an item from the dictionary.\n",
    "\n",
    "[This video](https://youtu.be/kCggyi_7pHg) is a fantastic introduction to writing these four endpoints in FastAPI. Note that that video stores cities in a **list**, and you'll want to store your objects in a **dictionary**. This will make for an easier transition when we start putting them in an actual _database_ later. \n",
    "\n",
    "Also note that at the end of that video, Anthony writes an integration to get local times for the cities in his database. You don't have to do something like that: your data model can have just keys and static values.\n",
    "\n",
    "### Requirements here:\n",
    "\n",
    "1. A GET endpoint named for your resource (in my case birds, in Anthony's case cities) that gets all the items in the dictionary.\n",
    "2. This endpoint should have a unit test that passes when the endpoint works and fails when it doesn't.\n",
    "\n",
    "3. A GET endpoint named for your resource that gets a specific item in the dictionary based on its key (you can make the keys whatever you like: [GUIDS](https://www.guidgenerator.com) are a common choice. I chose to just use the birds' names.)\n",
    "4. This endpoint should have a unit test that passes when the endpoint works and fails when it doesn't.\n",
    "\n",
    "5. A POST endpoint named for your resource that adds an instance to your dictionary.\n",
    "6. This endpoint should have a unit test that passes when the endpoint works and fails when it doesn't.\n",
    "\n",
    "7. A DELETE endpoint named for your resource that deletes a specific item in the dictionary.\n",
    "8. This endpoint should have a unit test that passes when the endpoint works and fails when it doesn't.\n",
    "\n",
    "Four endpoints, four unit tests. We're practicing the skill here of patching together information from different sources to learn how to implement your own application. You will rarely be able to find an _exact_ tutorial, and you'll need to be able to consult different use cases and documentation to find your way to your end goal.\n",
    "\n",
    "What challenges do you run into as you write these unit tests? You may run into a challenge where, to make sure your requests to _get_ stuff from the database are working, you have to dirst _put_ stuff in the database."
   ]
  },
  {
   "cell_type": "markdown",
   "metadata": {},
   "source": [
    "### Addressing the challenge: dependency injection\n",
    "\n",
    "[Follow this video tutotial](https://youtu.be/-NsfdPajLYs) to test-drive a database object. We'll use this instead of a plain old dictionary going forward.\n",
    "\n",
    "Then, [follow this video tutotial](https://youtu.be/Vqt4Efo-To8) to **inject the database dependency** into the app so that we can rely on test data for the database in our unit tests. This video also shows you a useful tool for tracking down problems while you're testing by using the python debugger, called pdb for short.\n",
    "\n",
    "Once you have the database injected into your app, you'll need to change each of your routes (listing items, getting an item, creating an item, an deleting an item) to use your new database. (In fact, the create function in the video would not work without changes for it to use the database properly by calling the \"put\" method rather than trying to assign items directly).\n",
    "\n",
    "### Requirements here:\n",
    "\n",
    "1. You have created the database object, as per the tutorial. You have tested it, as per the tutorial. You have injected it into your app, as per the tutorial.\n",
    "2. All of the endpoints (except for delete) now reference an instance of your database rather than a dictionary (we only cover this for the _first_ endpoint in that tutorial).\n",
    "3. All of the unit tests (except for delete) are adjusted to work with the changed endpoints, so they pass when the endpoints work and fail when they don't."
   ]
  },
  {
   "cell_type": "markdown",
   "metadata": {},
   "source": [
    "### But wait. What about delete??\n",
    "\n",
    "Yes. The new database object doesn't have a method to help you delete things! Add this function (and a unit test for it!) and call that function from your route that deletes things.\n",
    "\n",
    "### Requirements here:\n",
    "\n",
    "1. Your database has a \"delete\" function.\n",
    "2. This \"delete\" function has a unit test.\n",
    "3. Your \"delete\" route deletes an item from your database and your test is adjusted to work with the changed endpoint, so that it passes when the endpoint works and fails when it doesn't.\n",
    "\n",
    "### Things that you specifically _do not_ have to do:\n",
    "\n",
    "1. You do not have to deploy this anywhere. Running locally is fine. \n",
    "2. You do not have to open a pull request. Instead, accept [this repo assignment](https://classroom.github.com/a/Fg8fa_Uz) and stick your app in there. You can push straight to the `main` branch for this assignment."
   ]
  }
 ],
 "metadata": {
  "kernelspec": {
   "display_name": "Python 3",
   "language": "python",
   "name": "python3"
  },
  "language_info": {
   "codemirror_mode": {
    "name": "ipython",
    "version": 3
   },
   "file_extension": ".py",
   "mimetype": "text/x-python",
   "name": "python",
   "nbconvert_exporter": "python",
   "pygments_lexer": "ipython3",
   "version": "3.9.0"
  }
 },
 "nbformat": 4,
 "nbformat_minor": 4
}
